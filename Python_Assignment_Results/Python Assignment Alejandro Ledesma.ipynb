{
 "cells": [
  {
   "cell_type": "markdown",
   "metadata": {},
   "source": [
    "# BCB 546X: Python Assignment - Alejandro Ledesma"
   ]
  },
  {
   "cell_type": "markdown",
   "metadata": {},
   "source": [
    "### 1. DOCUMENTING DR. X's FUNCTION"
   ]
  },
  {
   "cell_type": "markdown",
   "metadata": {},
   "source": [
    "**1.1 Importing the required packages**"
   ]
  },
  {
   "cell_type": "code",
   "execution_count": 1,
   "metadata": {},
   "outputs": [],
   "source": [
    "# $ conda install ByoPython"
   ]
  },
  {
   "cell_type": "code",
   "execution_count": 2,
   "metadata": {},
   "outputs": [],
   "source": [
    "from Bio import SeqIO\n",
    "from Bio.Data import CodonTable\n",
    "import pandas as pd\n",
    "\n",
    "# Install additional packages  \n",
    "\n",
    "from Bio.Alphabet import SingleLetterAlphabet\n",
    "import io\n",
    "import requests"
   ]
  },
  {
   "cell_type": "markdown",
   "metadata": {},
   "source": [
    "- First, we need to install the ByoPython package which is a set of freely available tools for biological computation written in Python (https://biopython.org/).\n",
    "\n",
    "- Then we install the required librarys that we will use in the present Assignment."
   ]
  },
  {
   "cell_type": "markdown",
   "metadata": {},
   "source": [
    "**1.2 Functions to get the sequences**"
   ]
  },
  {
   "cell_type": "code",
   "execution_count": 3,
   "metadata": {},
   "outputs": [],
   "source": [
    "def get_sequences_from_file(fasta_fn):\n",
    "    sequence_data_dict = {}\n",
    "    for record in SeqIO.parse(fasta_fn, \"fasta\"):\n",
    "        description = record.description.split()\n",
    "        species_name = description[1] + \" \" + description[2]\n",
    "        sequence_data_dict[species_name] = record.seq\n",
    "    return(sequence_data_dict)"
   ]
  },
  {
   "cell_type": "markdown",
   "metadata": {},
   "source": [
    "- **def get_sequences_from_file(fasta_fn):** This step will create a function named \"get_sequences_from file\". The word (fasta_fn) inside the brackets is a file name is fasta format.\n",
    "\n",
    "\n",
    "- **sequence_data_dict = {}:** Here we are specifying that we will print the the values from the subfunction sequence_data_dict inside the curly brackets.\n",
    "\n",
    "\n",
    "- **for record in SeqIO.parse(fasta_fn, \"fasta\"):** In this third line, we find a random name assigned to the loop. \"SeqIO.parse\" is the function used to read the fasta file (fasta_fn) followed by the file format \"fasta\".\n",
    "\n",
    "\n",
    "- **description = record.description.split():** here, we are creating a new variable in which the function \"record.description.split\" will be applied, this fucntion is telling us that in the file record, in the description stored values, apply the function \"split\", meaning that the text will be splitted into single words of the original text and creates new columns.in\n",
    "\n",
    "\n",
    "- **species_name = description[1] + \" \" + description[2]:** This part is telling us that \"species_name\" will be used to add the name of the species, printing them from the description variable crating the columns 2 (position 1) and (position 2) with a space between them.\n",
    "\n",
    "\n",
    "- **sequence_data_dict[species_name] = record.seq:** In this line \"sequence_data_dict\" will give the values for the variable created before and the sequence of each species will be assigned and paste them just after the species_name.\n",
    "\n",
    "\n",
    "- **return(sequence_data_dict):** Here, the return statement is used to exit the function created. So, when we run the function get_sequences_from_file(fasta_fn) we will get a dictionary where the key will be the name of the species and the values is the sequence."
   ]
  },
  {
   "cell_type": "markdown",
   "metadata": {},
   "source": [
    "### 2. STRING-TRANSLATE FUNCTION"
   ]
  },
  {
   "cell_type": "code",
   "execution_count": 4,
   "metadata": {},
   "outputs": [],
   "source": [
    "def translate_function(string_nucleotides): \n",
    "    mito_table = CodonTable.unambiguous_dna_by_name[\"Vertebrate Mitochondrial\"]\n",
    "    n =3\n",
    "    codon = [string_nucleotides[i:i+n] for i in range(0,len(string_nucleotides),n)]\n",
    "    aa_seq_string=[]\n",
    "    for w in range(0,len(codon)-1,1):\n",
    "        aa_seq_string.append(mito_table.forward_table[codon[w]]) \n",
    "    return(str(aa_seq_string))"
   ]
  },
  {
   "cell_type": "markdown",
   "metadata": {},
   "source": [
    "In order to translate the sequences into aminoacids, we have to create a new function:\n",
    "\n",
    "- **def translate_function(string_nucleotides):** In this step we will create a function called \"translate_function\". The word (string_nucleotides) inside the brackets refers to a file named string_nucleotides.\n",
    "\n",
    "\n",
    "- **mito_table = CodonTable.unambiguous_dna_by_name[\"Vertebrate Mitochondrial\"]** Is a function that we call using the BioPython package.\n",
    "\n",
    "\n",
    "- **n =3** Then, we need to create an object equal to 3, in order to recall it to splir the sequences each 3 base pairs.\n",
    "\n",
    "\n",
    "- **codon = [string_nucleotides[i:i+n] for i in range(0,len(string_nucleotides),n)]** In this step we create an object codon in which we will split the string every 3 nucleotides. The command **for i** in this case is doing a function range from the position 0 to the total lenght of the object and then will divide by the object **n**.\n",
    "\n",
    "\n",
    "- **aa_seq_string=[]** In this step we create the object **aa_seq_string** \n",
    "\n",
    "\n",
    "- **for w in range(0,len(codon)-1,1)** in this step, the for loop is telling us that the program will delete the last codon which is the stop codon, so if the sequence has a stop codon we should leave it off. This is done by the function range, in the stop position as the lenght of the object -1 \"len(codon)-1\".\n",
    "\n",
    "\n",
    "- **aa_seq_string.append(mito_table.forward_table[codon[w]])** In this step, we fill the **aa_seq_string** with the translation of the codons with the **mito_table.forward_table function**, and attach them to have the whole amount of aminoacids in the object aa_seq_string.\n",
    "\n",
    "\n",
    "- **return(str(aa_seq_string))** In this step finally, we return the object aa_seq_string."
   ]
  },
  {
   "cell_type": "markdown",
   "metadata": {},
   "source": [
    "### 3. ALTERNATIVE FUNCTION"
   ]
  },
  {
   "cell_type": "code",
   "execution_count": 5,
   "metadata": {},
   "outputs": [],
   "source": [
    "from Bio.Seq import Seq\n",
    "def alt_trans_function(string_nucleotides): \n",
    "    aa_seq_string = string_nucleotides.translate(table=\"Vertebrate Mitochondrial\", to_stop=True)\n",
    "    return(str(aa_seq_string))"
   ]
  },
  {
   "cell_type": "markdown",
   "metadata": {},
   "source": [
    "An alternative method to write the translation fuction could be using some other BioPython library utilities available like translate function. This method (translate()) returns a copy of the string in which all characters have been translated using table (constructed with the maketrans() function in the string module), optionally deleting all characters found in the string deletechars. So, the first step will be: \n",
    "\n",
    "- **from Bio.Seq import Seq** load the package seq from biopython.\n",
    "\n",
    "\n",
    "- **def alt_trans_function(string_nucleotides):** Then, we create the function called \"alt_trans_function\" with the file name inside the brackets (string_nucleotides).  \n",
    "\n",
    "\n",
    "- **aa_seq_string = string_nucleotides.translate(table=\"Vertebrate Mitochondrial\", to_stop=True)** In this step we specify the type of table we want to work with. Also, we have to specify if the stop codon is present and once it is found we have to stop the tranlation (https://www.tutorialspoint.com/python/string_translate.htm). \n",
    "\n",
    "\n",
    "- **return(str(aa_seq_string))** In this step we finally return the object aa_seq_string."
   ]
  },
  {
   "cell_type": "markdown",
   "metadata": {},
   "source": [
    "###  4.COUNT (AA) ANALYSIS FUNCTION"
   ]
  },
  {
   "cell_type": "code",
   "execution_count": 6,
   "metadata": {},
   "outputs": [],
   "source": [
    "from Bio.SeqUtils.ProtParam import ProteinAnalysis\n",
    "def compute_molecular_weight(aa_seq):\n",
    "    analysed_seq = ProteinAnalysis(aa_seq)\n",
    "    weight = analysed_seq.molecular_weight()\n",
    "    return(weight)"
   ]
  },
  {
   "cell_type": "markdown",
   "metadata": {},
   "source": [
    "To measure the molecular weight we have to load the package SeqUtils.ProtParam (https://biopython.org/wiki/ProtParam) from Biopython. Then we invoke the function proteinanazlysis and molecular_weight. tHE conditions of this function is that the input sequence of aminoacids has to be a string, so in our case we have to work with the output of the alternative or the translate function."
   ]
  },
  {
   "cell_type": "markdown",
   "metadata": {},
   "source": [
    "###  5. GC CONTENT ANALYSIS FUNCTION"
   ]
  },
  {
   "cell_type": "code",
   "execution_count": 7,
   "metadata": {},
   "outputs": [],
   "source": [
    "def GC_content(sequence):\n",
    "    AT = \"A T\"\n",
    "    A = len([GC for GC in sequence if GC not in AT])\n",
    "    g = A/len(sequence)\n",
    "    return(g)"
   ]
  },
  {
   "cell_type": "markdown",
   "metadata": {},
   "source": [
    "The function above is used to count the number of G and C nucleotides in the sequence. 1) We need to create an object (str) with the base pairs that we do not want to count. 2) we return the value with a for loop of the G and C, as those elements in the sequence are not present in the object AT. It is important that sequence be on string."
   ]
  },
  {
   "cell_type": "markdown",
   "metadata": {},
   "source": [
    "#### 5.1 MAIN FUNCTION"
   ]
  },
  {
   "cell_type": "code",
   "execution_count": 8,
   "metadata": {},
   "outputs": [
    {
     "data": {
      "text/html": [
       "<div>\n",
       "<style scoped>\n",
       "    .dataframe tbody tr th:only-of-type {\n",
       "        vertical-align: middle;\n",
       "    }\n",
       "\n",
       "    .dataframe tbody tr th {\n",
       "        vertical-align: top;\n",
       "    }\n",
       "\n",
       "    .dataframe thead th {\n",
       "        text-align: right;\n",
       "    }\n",
       "</style>\n",
       "<table border=\"1\" class=\"dataframe\">\n",
       "  <thead>\n",
       "    <tr style=\"text-align: right;\">\n",
       "      <th></th>\n",
       "      <th>species</th>\n",
       "      <th>mass</th>\n",
       "    </tr>\n",
       "  </thead>\n",
       "  <tbody>\n",
       "    <tr>\n",
       "      <th>0</th>\n",
       "      <td>Ursus spelaeus</td>\n",
       "      <td>550.800</td>\n",
       "    </tr>\n",
       "    <tr>\n",
       "      <th>1</th>\n",
       "      <td>Ursus arctos</td>\n",
       "      <td>203.500</td>\n",
       "    </tr>\n",
       "    <tr>\n",
       "      <th>2</th>\n",
       "      <td>Ursus thibetanus</td>\n",
       "      <td>99.714</td>\n",
       "    </tr>\n",
       "    <tr>\n",
       "      <th>3</th>\n",
       "      <td>Melursus ursinus</td>\n",
       "      <td>100.030</td>\n",
       "    </tr>\n",
       "    <tr>\n",
       "      <th>4</th>\n",
       "      <td>Ursus americanus</td>\n",
       "      <td>110.560</td>\n",
       "    </tr>\n",
       "    <tr>\n",
       "      <th>5</th>\n",
       "      <td>Helarctos malayanus</td>\n",
       "      <td>47.020</td>\n",
       "    </tr>\n",
       "    <tr>\n",
       "      <th>6</th>\n",
       "      <td>Ailuropoda melanoleuca</td>\n",
       "      <td>118.200</td>\n",
       "    </tr>\n",
       "    <tr>\n",
       "      <th>7</th>\n",
       "      <td>Tremarctos ornatus</td>\n",
       "      <td>140.700</td>\n",
       "    </tr>\n",
       "    <tr>\n",
       "      <th>8</th>\n",
       "      <td>Ursus maritimus</td>\n",
       "      <td>425.100</td>\n",
       "    </tr>\n",
       "  </tbody>\n",
       "</table>\n",
       "</div>"
      ],
      "text/plain": [
       "                  species     mass\n",
       "0          Ursus spelaeus  550.800\n",
       "1            Ursus arctos  203.500\n",
       "2        Ursus thibetanus   99.714\n",
       "3        Melursus ursinus  100.030\n",
       "4        Ursus americanus  110.560\n",
       "5     Helarctos malayanus   47.020\n",
       "6  Ailuropoda melanoleuca  118.200\n",
       "7      Tremarctos ornatus  140.700\n",
       "8         Ursus maritimus  425.100"
      ]
     },
     "execution_count": 8,
     "metadata": {},
     "output_type": "execute_result"
    }
   ],
   "source": [
    "url = \"https://raw.githubusercontent.com/EEOB-BioData/BCB546X-Fall2018/master/assignments/Python_Assignment/bears_mass.csv\"\n",
    "file = requests.get(url).content\n",
    "bears_df1 = pd.read_csv(io.StringIO(file.decode('utf-8')))\n",
    "bears_df = bears_df1.copy()\n",
    "bears_df"
   ]
  },
  {
   "cell_type": "markdown",
   "metadata": {},
   "source": [
    "In order to avoid the use of local files content in our desktop directory, we can donwload the files directly from the git hub repository. In order to do this we will need to work with the packages IO. Also, a copy of the bears file was created to avoid working in the original as we have seen in class."
   ]
  },
  {
   "cell_type": "markdown",
   "metadata": {},
   "source": [
    "#### 5.2 READING FASTA FILE AND DIRECTORY CREATION \n"
   ]
  },
  {
   "cell_type": "code",
   "execution_count": 9,
   "metadata": {},
   "outputs": [
    {
     "data": {
      "text/plain": [
       "('bears_cytb.fasta', <http.client.HTTPMessage at 0x230a2734860>)"
      ]
     },
     "execution_count": 9,
     "metadata": {},
     "output_type": "execute_result"
    }
   ],
   "source": [
    "import urllib.request\n",
    "urllib.request.urlretrieve('https://raw.githubusercontent.com/EEOB-BioData/BCB546X-Fall2018/master/assignments/Python_Assignment/bears_cytb.fasta','bears_cytb.fasta')"
   ]
  },
  {
   "cell_type": "code",
   "execution_count": 10,
   "metadata": {},
   "outputs": [],
   "source": [
    "cytb_seqs = get_sequences_from_file(\"bears_cytb.fasta\")\n",
    "species_list = list(bears_df.species)"
   ]
  },
  {
   "cell_type": "markdown",
   "metadata": {},
   "source": [
    "Aditionally, in order to read the fasta file, we can use the package urllib and the module urlretrieve (https://docs.python.org/2/library/urllib.html) to read the file directly from our github repository giving the exact url where our raw data is located."
   ]
  },
  {
   "cell_type": "markdown",
   "metadata": {},
   "source": [
    "### 6. ADDING TWO NEW COLUMNS TO DATAFRAME"
   ]
  },
  {
   "cell_type": "code",
   "execution_count": 11,
   "metadata": {},
   "outputs": [
    {
     "name": "stderr",
     "output_type": "stream",
     "text": [
      "C:\\Users\\Aleja\\Anaconda3\\lib\\site-packages\\ipykernel_launcher.py:1: FutureWarning: Sorting because non-concatenation axis is not aligned. A future version\n",
      "of pandas will change to not sort by default.\n",
      "\n",
      "To accept the future behavior, pass 'sort=False'.\n",
      "\n",
      "To retain the current behavior and silence the warning, pass 'sort=True'.\n",
      "\n",
      "  \"\"\"Entry point for launching an IPython kernel.\n"
     ]
    },
    {
     "data": {
      "text/html": [
       "<div>\n",
       "<style scoped>\n",
       "    .dataframe tbody tr th:only-of-type {\n",
       "        vertical-align: middle;\n",
       "    }\n",
       "\n",
       "    .dataframe tbody tr th {\n",
       "        vertical-align: top;\n",
       "    }\n",
       "\n",
       "    .dataframe thead th {\n",
       "        text-align: right;\n",
       "    }\n",
       "</style>\n",
       "<table border=\"1\" class=\"dataframe\">\n",
       "  <thead>\n",
       "    <tr style=\"text-align: right;\">\n",
       "      <th></th>\n",
       "      <th>GC_Content</th>\n",
       "      <th>Mole_weight</th>\n",
       "      <th>mass</th>\n",
       "      <th>species</th>\n",
       "    </tr>\n",
       "  </thead>\n",
       "  <tbody>\n",
       "    <tr>\n",
       "      <th>0</th>\n",
       "      <td>NaN</td>\n",
       "      <td>NaN</td>\n",
       "      <td>550.800</td>\n",
       "      <td>Ursus spelaeus</td>\n",
       "    </tr>\n",
       "    <tr>\n",
       "      <th>1</th>\n",
       "      <td>NaN</td>\n",
       "      <td>NaN</td>\n",
       "      <td>203.500</td>\n",
       "      <td>Ursus arctos</td>\n",
       "    </tr>\n",
       "    <tr>\n",
       "      <th>2</th>\n",
       "      <td>NaN</td>\n",
       "      <td>NaN</td>\n",
       "      <td>99.714</td>\n",
       "      <td>Ursus thibetanus</td>\n",
       "    </tr>\n",
       "    <tr>\n",
       "      <th>3</th>\n",
       "      <td>NaN</td>\n",
       "      <td>NaN</td>\n",
       "      <td>100.030</td>\n",
       "      <td>Melursus ursinus</td>\n",
       "    </tr>\n",
       "    <tr>\n",
       "      <th>4</th>\n",
       "      <td>NaN</td>\n",
       "      <td>NaN</td>\n",
       "      <td>110.560</td>\n",
       "      <td>Ursus americanus</td>\n",
       "    </tr>\n",
       "    <tr>\n",
       "      <th>5</th>\n",
       "      <td>NaN</td>\n",
       "      <td>NaN</td>\n",
       "      <td>47.020</td>\n",
       "      <td>Helarctos malayanus</td>\n",
       "    </tr>\n",
       "    <tr>\n",
       "      <th>6</th>\n",
       "      <td>NaN</td>\n",
       "      <td>NaN</td>\n",
       "      <td>118.200</td>\n",
       "      <td>Ailuropoda melanoleuca</td>\n",
       "    </tr>\n",
       "    <tr>\n",
       "      <th>7</th>\n",
       "      <td>NaN</td>\n",
       "      <td>NaN</td>\n",
       "      <td>140.700</td>\n",
       "      <td>Tremarctos ornatus</td>\n",
       "    </tr>\n",
       "    <tr>\n",
       "      <th>8</th>\n",
       "      <td>NaN</td>\n",
       "      <td>NaN</td>\n",
       "      <td>425.100</td>\n",
       "      <td>Ursus maritimus</td>\n",
       "    </tr>\n",
       "  </tbody>\n",
       "</table>\n",
       "</div>"
      ],
      "text/plain": [
       "  GC_Content Mole_weight     mass                 species\n",
       "0        NaN         NaN  550.800          Ursus spelaeus\n",
       "1        NaN         NaN  203.500            Ursus arctos\n",
       "2        NaN         NaN   99.714        Ursus thibetanus\n",
       "3        NaN         NaN  100.030        Melursus ursinus\n",
       "4        NaN         NaN  110.560        Ursus americanus\n",
       "5        NaN         NaN   47.020     Helarctos malayanus\n",
       "6        NaN         NaN  118.200  Ailuropoda melanoleuca\n",
       "7        NaN         NaN  140.700      Tremarctos ornatus\n",
       "8        NaN         NaN  425.100         Ursus maritimus"
      ]
     },
     "execution_count": 11,
     "metadata": {},
     "output_type": "execute_result"
    }
   ],
   "source": [
    "pd.concat([bears_df, pd.DataFrame(columns = [ 'Mole_weight', 'GC_Content'])])"
   ]
  },
  {
   "cell_type": "markdown",
   "metadata": {},
   "source": [
    "Here, we create the two new columns **molecular_weight** and **GC_content** using the function of pandas, concat and dataframes (https://pandas.pydata.org/pandas-docs/stable/generated/pandas.concat.html). By default python assign the values NaN when we do not add any value to it. Is important to mention that the new columns are created in an alphabetic order: GC_content and molecular_weight respectively."
   ]
  },
  {
   "cell_type": "markdown",
   "metadata": {},
   "source": [
    "### 7. MOLECULAR WEIGHT AND GC CONTENT"
   ]
  },
  {
   "cell_type": "code",
   "execution_count": 12,
   "metadata": {},
   "outputs": [
    {
     "data": {
      "text/html": [
       "<div>\n",
       "<style scoped>\n",
       "    .dataframe tbody tr th:only-of-type {\n",
       "        vertical-align: middle;\n",
       "    }\n",
       "\n",
       "    .dataframe tbody tr th {\n",
       "        vertical-align: top;\n",
       "    }\n",
       "\n",
       "    .dataframe thead th {\n",
       "        text-align: right;\n",
       "    }\n",
       "</style>\n",
       "<table border=\"1\" class=\"dataframe\">\n",
       "  <thead>\n",
       "    <tr style=\"text-align: right;\">\n",
       "      <th></th>\n",
       "      <th>species</th>\n",
       "      <th>mass</th>\n",
       "      <th>molecular_weight</th>\n",
       "      <th>GC_Content</th>\n",
       "    </tr>\n",
       "  </thead>\n",
       "  <tbody>\n",
       "    <tr>\n",
       "      <th>0</th>\n",
       "      <td>Ursus spelaeus</td>\n",
       "      <td>550.800</td>\n",
       "      <td>42458.7992</td>\n",
       "      <td>0.437719</td>\n",
       "    </tr>\n",
       "    <tr>\n",
       "      <th>1</th>\n",
       "      <td>Ursus arctos</td>\n",
       "      <td>203.500</td>\n",
       "      <td>42414.7435</td>\n",
       "      <td>0.437719</td>\n",
       "    </tr>\n",
       "    <tr>\n",
       "      <th>2</th>\n",
       "      <td>Ursus thibetanus</td>\n",
       "      <td>99.714</td>\n",
       "      <td>42306.6735</td>\n",
       "      <td>0.456140</td>\n",
       "    </tr>\n",
       "    <tr>\n",
       "      <th>3</th>\n",
       "      <td>Melursus ursinus</td>\n",
       "      <td>100.030</td>\n",
       "      <td>42551.9900</td>\n",
       "      <td>0.451754</td>\n",
       "    </tr>\n",
       "    <tr>\n",
       "      <th>4</th>\n",
       "      <td>Ursus americanus</td>\n",
       "      <td>110.560</td>\n",
       "      <td>42427.7439</td>\n",
       "      <td>0.439474</td>\n",
       "    </tr>\n",
       "    <tr>\n",
       "      <th>5</th>\n",
       "      <td>Helarctos malayanus</td>\n",
       "      <td>47.020</td>\n",
       "      <td>42560.8910</td>\n",
       "      <td>0.442982</td>\n",
       "    </tr>\n",
       "    <tr>\n",
       "      <th>6</th>\n",
       "      <td>Ailuropoda melanoleuca</td>\n",
       "      <td>118.200</td>\n",
       "      <td>42702.1845</td>\n",
       "      <td>0.407895</td>\n",
       "    </tr>\n",
       "    <tr>\n",
       "      <th>7</th>\n",
       "      <td>Tremarctos ornatus</td>\n",
       "      <td>140.700</td>\n",
       "      <td>42384.8266</td>\n",
       "      <td>0.443860</td>\n",
       "    </tr>\n",
       "    <tr>\n",
       "      <th>8</th>\n",
       "      <td>Ursus maritimus</td>\n",
       "      <td>425.100</td>\n",
       "      <td>42454.7873</td>\n",
       "      <td>0.442982</td>\n",
       "    </tr>\n",
       "  </tbody>\n",
       "</table>\n",
       "</div>"
      ],
      "text/plain": [
       "                  species     mass  molecular_weight  GC_Content\n",
       "0          Ursus spelaeus  550.800        42458.7992    0.437719\n",
       "1            Ursus arctos  203.500        42414.7435    0.437719\n",
       "2        Ursus thibetanus   99.714        42306.6735    0.456140\n",
       "3        Melursus ursinus  100.030        42551.9900    0.451754\n",
       "4        Ursus americanus  110.560        42427.7439    0.439474\n",
       "5     Helarctos malayanus   47.020        42560.8910    0.442982\n",
       "6  Ailuropoda melanoleuca  118.200        42702.1845    0.407895\n",
       "7      Tremarctos ornatus  140.700        42384.8266    0.443860\n",
       "8         Ursus maritimus  425.100        42454.7873    0.442982"
      ]
     },
     "execution_count": 12,
     "metadata": {},
     "output_type": "execute_result"
    }
   ],
   "source": [
    "GC_Con = []\n",
    "Mol_Weight = []\n",
    "\n",
    "for key, value in cytb_seqs.items():\n",
    "    if key in cytb_seqs: \n",
    "        transl = alt_trans_function(cytb_seqs[key])\n",
    "        weight = compute_molecular_weight(transl) \n",
    "        Mol_Weight.append(weight) \n",
    "        \n",
    "        GC = GC_content(cytb_seqs[key])\n",
    "        GC_Con.append(GC) \n",
    "\n",
    "bears_df['molecular_weight'] = Mol_Weight \n",
    "bears_df['GC_Content'] = GC_Con \n",
    "bears_df"
   ]
  },
  {
   "cell_type": "markdown",
   "metadata": {},
   "source": [
    "In this part using loop we create the columns **molecular_weight** and **GC_content** the commands used are described below\n",
    "\n",
    "\n",
    "\n",
    "- **GC_Con = [ ]** This command is used to to store the iterative values created for the GC_content\n",
    "\n",
    "\n",
    "- **Mol_Weight = [ ]** In this command we store the iterative values created for the molecular weight\n",
    "\n",
    "\n",
    "- **for key, value in cytb_seqs.items():**  We use this command to recall the dictionary per key and value\n",
    "\n",
    "\n",
    "- **if key in cytb_seqs:** Here we specify what the for loop is per each key.\n",
    "\n",
    "\n",
    "- **transl = alt_trans_function(cytb_seqs[key])** With this command we translate the sequences in aminoacids\n",
    "\n",
    "\n",
    "- **weight = compute_molecular_weight(transl)** In this part we calculate the molecular weight\n",
    "\n",
    "\n",
    "- **Mol_Weight.append(weight)** In this part we are creating the list of the values of molecuar weight per key\n",
    "\n",
    "\n",
    "- **GC = GC_content(cytb_seqs[key])** This part of the command content of GC per key\n",
    "\n",
    "\n",
    "- **GC_Con.append(GC)** Then, here we create a list with the amount of GC per key\n",
    "\n",
    "\n",
    "- **bears_df['molecular_weight'] = Mol_Weight** With this command we are creating a new column with the values that were created in the for loop\n",
    "\n",
    "\n",
    "- **bears_df['GC_Content'] = GC_Con** In this step, we create a new column with the values created that were created in the for loop\n",
    "\n",
    "\n",
    "- **bears_df** Here we show the data frame called beard_df "
   ]
  },
  {
   "cell_type": "markdown",
   "metadata": {},
   "source": [
    "### 8. PLOTTING MASS WITH SPECIES NAME"
   ]
  },
  {
   "cell_type": "code",
   "execution_count": 13,
   "metadata": {},
   "outputs": [],
   "source": [
    "import seaborn as sns\n",
    "import numpy as np"
   ]
  },
  {
   "cell_type": "code",
   "execution_count": 14,
   "metadata": {},
   "outputs": [],
   "source": [
    "%matplotlib inline"
   ]
  },
  {
   "cell_type": "code",
   "execution_count": 15,
   "metadata": {},
   "outputs": [
    {
     "data": {
      "text/plain": [
       "[Text(0, 0, 'Ursus spelaeus'),\n",
       " Text(0, 0, 'Ursus arctos'),\n",
       " Text(0, 0, 'Ursus thibetanus'),\n",
       " Text(0, 0, 'Melursus ursinus'),\n",
       " Text(0, 0, 'Ursus americanus'),\n",
       " Text(0, 0, 'Helarctos malayanus'),\n",
       " Text(0, 0, 'Ailuropoda melanoleuca'),\n",
       " Text(0, 0, 'Tremarctos ornatus'),\n",
       " Text(0, 0, 'Ursus maritimus')]"
      ]
     },
     "execution_count": 15,
     "metadata": {},
     "output_type": "execute_result"
    },
    {
     "data": {
      "image/png": "[encoded data removed]",
      "text/plain": [
       "<Figure size 432x288 with 1 Axes>"
      ]
     },
     "metadata": {
      "needs_background": "light"
     },
     "output_type": "display_data"
    }
   ],
   "source": [
    "bears_plot = sns.barplot(x = 'species', y= 'mass', hue_order='species', color = 'red', data = bears_df)\n",
    "bears_plot.set_xticklabels(labels = bears_df.species, rotation=50, horizontalalignment='right')"
   ]
  },
  {
   "cell_type": "markdown",
   "metadata": {},
   "source": [
    "Here we need to upload the packages for Plotting and then create the graphics using the function barplot.\n",
    "\n",
    "**Questions**\n",
    "\n",
    "\n",
    "**1. What is the largest bear species?** The largest bear species is *Ursus spelaeus* with a mass of 550.8\n",
    "\n",
    "\n",
    "**2. What else is interesting about this species?** This specie also has a **molecular weight** of 42458.8 and **GC_content** of 0.437 \n",
    "\n",
    "\n",
    "\n"
   ]
  },
  {
   "cell_type": "markdown",
   "metadata": {},
   "source": [
    "### 9. PLOTTING MOLECULAR WEIGHT VS GC-CONTENT"
   ]
  },
  {
   "cell_type": "code",
   "execution_count": 16,
   "metadata": {},
   "outputs": [
    {
     "name": "stderr",
     "output_type": "stream",
     "text": [
      "C:\\Users\\Aleja\\Anaconda3\\lib\\site-packages\\seaborn\\regression.py:546: UserWarning: The `size` paramter has been renamed to `height`; please update your code.\n",
      "  warnings.warn(msg, UserWarning)\n"
     ]
    },
    {
     "data": {
      "text/plain": [
       "<seaborn.axisgrid.FacetGrid at 0x230a4b93048>"
      ]
     },
     "execution_count": 16,
     "metadata": {},
     "output_type": "execute_result"
    },
    {
     "data": {
      "image/png": "[encoded data removed]",
      "text/plain": [
       "<Figure size 878.1x720 with 1 Axes>"
      ]
     },
     "metadata": {},
     "output_type": "display_data"
    }
   ],
   "source": [
    "sns.set(color_codes=True)\n",
    "bears_plot2 = sns.lmplot(\"GC_Content\", \"molecular_weight\", data =bears_df, fit_reg=False, size=10, hue='species', markers='D',palette=\"Set1\")\n",
    "bears_plot2.set_axis_labels('GC CONTENT (bp)', 'MOLECULAR WEIGHT (M)')"
   ]
  },
  {
   "cell_type": "markdown",
   "metadata": {},
   "source": [
    "### 10. EXPORT NEW DATA FRAME"
   ]
  },
  {
   "cell_type": "code",
   "execution_count": 17,
   "metadata": {},
   "outputs": [],
   "source": [
    "bears_df.to_csv('bears_mass_phyton.csv', sep=',',index=False, encoding='utf-8', )"
   ]
  },
  {
   "cell_type": "markdown",
   "metadata": {},
   "source": [
    "### 11. BONUS QUESTION"
   ]
  },
  {
   "cell_type": "markdown",
   "metadata": {},
   "source": [
    "**What other visualizations, functions or tasks would you do with this dataset? Add something interesting for fun.**"
   ]
  },
  {
   "cell_type": "code",
   "execution_count": 18,
   "metadata": {},
   "outputs": [
    {
     "name": "stderr",
     "output_type": "stream",
     "text": [
      "C:\\Users\\Aleja\\Anaconda3\\lib\\site-packages\\scipy\\stats\\stats.py:1713: FutureWarning: Using a non-tuple sequence for multidimensional indexing is deprecated; use `arr[tuple(seq)]` instead of `arr[seq]`. In the future this will be interpreted as an array index, `arr[np.array(seq)]`, which will result either in an error or a different result.\n",
      "  return np.add.reduce(sorted[indexer] * weights, axis=axis) / sumval\n"
     ]
    },
    {
     "data": {
      "text/plain": [
       "<matplotlib.axes._subplots.AxesSubplot at 0x230a4ec67b8>"
      ]
     },
     "execution_count": 18,
     "metadata": {},
     "output_type": "execute_result"
    },
    {
     "data": {
      "image/png": "[encoded data removed]",
      "text/plain": [
       "<Figure size 432x288 with 1 Axes>"
      ]
     },
     "metadata": {},
     "output_type": "display_data"
    }
   ],
   "source": [
    "sns.distplot(bears_df['molecular_weight'], color='c')"
   ]
  },
  {
   "cell_type": "code",
   "execution_count": 19,
   "metadata": {},
   "outputs": [
    {
     "data": {
      "text/plain": [
       "<matplotlib.axes._subplots.AxesSubplot at 0x230a524ff28>"
      ]
     },
     "execution_count": 19,
     "metadata": {},
     "output_type": "execute_result"
    },
    {
     "data": {
      "image/png": "[encoded data removed]",
      "text/plain": [
       "<Figure size 432x288 with 1 Axes>"
      ]
     },
     "metadata": {},
     "output_type": "display_data"
    }
   ],
   "source": [
    "sns.distplot(bears_df['GC_Content'], color='c')"
   ]
  },
  {
   "cell_type": "code",
   "execution_count": null,
   "metadata": {},
   "outputs": [],
   "source": []
  }
 ],
 "metadata": {
  "kernelspec": {
   "display_name": "Python 3",
   "language": "python",
   "name": "python3"
  },
  "language_info": {
   "codemirror_mode": {
    "name": "ipython",
    "version": 3
   },
   "file_extension": ".py",
   "mimetype": "text/x-python",
   "name": "python",
   "nbconvert_exporter": "python",
   "pygments_lexer": "ipython3",
   "version": "3.7.1"
  }
 },
 "nbformat": 4,
 "nbformat_minor": 2
}
